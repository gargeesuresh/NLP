{
 "cells": [
  {
   "cell_type": "markdown",
   "metadata": {},
   "source": [
    "# Tokenization"
   ]
  },
  {
   "cell_type": "code",
   "execution_count": 11,
   "metadata": {},
   "outputs": [
    {
     "name": "stdout",
     "output_type": "stream",
     "text": [
      "{'love': 1, 'my': 2, 'i': 3, 'dog': 4, 'cat': 5, 'you': 6}\n"
     ]
    }
   ],
   "source": [
    "from tensorflow.keras.preprocessing.text import Tokenizer\n",
    "\n",
    "sentences = [\n",
    "    'i love my dog',\n",
    "    'I, love my cat',\n",
    "    'You love my dog!'\n",
    "]\n",
    "\n",
    "tokenizer = Tokenizer(num_words = 1)\n",
    "tokenizer.fit_on_texts(sentences)\n",
    "word_index = tokenizer.word_index\n",
    "print(word_index)"
   ]
  },
  {
   "cell_type": "markdown",
   "metadata": {},
   "source": [
    "# turning sentences to data"
   ]
  },
  {
   "cell_type": "code",
   "execution_count": 7,
   "metadata": {},
   "outputs": [
    {
     "name": "stdout",
     "output_type": "stream",
     "text": [
      "\n",
      "Word Index =  {'<OOV>': 1, 'my': 2, 'love': 3, 'dog': 4, 'i': 5, 'you': 6, 'cat': 7, 'do': 8, 'think': 9, 'is': 10, 'amazing': 11}\n",
      "\n",
      "Sequences =  [[5, 3, 2, 4], [5, 3, 2, 7], [6, 3, 2, 4], [8, 6, 9, 2, 4, 10, 11]]\n",
      "\n",
      "Padded Sequences:\n",
      "[[ 0  5  3  2  4]\n",
      " [ 0  5  3  2  7]\n",
      " [ 0  6  3  2  4]\n",
      " [ 9  2  4 10 11]]\n",
      "\n",
      "Test Sequence =  [[5, 1, 3, 2, 4], [2, 4, 1, 2, 1]]\n",
      "\n",
      "Padded Test Sequence: \n",
      "[[0 0 0 0 0 5 1 3 2 4]\n",
      " [0 0 0 0 0 2 4 1 2 1]]\n"
     ]
    }
   ],
   "source": [
    "import tensorflow as tf\n",
    "from tensorflow import keras\n",
    "\n",
    "\n",
    "from tensorflow.keras.preprocessing.text import Tokenizer\n",
    "from tensorflow.keras.preprocessing.sequence import pad_sequences\n",
    "\n",
    "sentences = [\n",
    "    'I love my dog',\n",
    "    'I love my cat',\n",
    "    'You love my dog!',\n",
    "    'Do you think my dog is amazing?'\n",
    "]\n",
    "\n",
    "tokenizer = Tokenizer(num_words = 100, oov_token=\"<OOV>\")\n",
    "tokenizer.fit_on_texts(sentences)\n",
    "word_index = tokenizer.word_index\n",
    "\n",
    "sequences = tokenizer.texts_to_sequences(sentences)\n",
    "\n",
    "padded = pad_sequences(sequences, maxlen=5)\n",
    "print(\"\\nWord Index = \" , word_index)\n",
    "print(\"\\nSequences = \" , sequences)\n",
    "print(\"\\nPadded Sequences:\")\n",
    "print(padded)\n",
    "\n",
    "\n",
    "# Try with words that the tokenizer wasn't fit to\n",
    "test_data = [\n",
    "    'i really love my dog',\n",
    "    'my dog loves my manatee'\n",
    "]\n",
    "\n",
    "test_seq = tokenizer.texts_to_sequences(test_data)\n",
    "print(\"\\nTest Sequence = \", test_seq)\n",
    "\n",
    "padded = pad_sequences(test_seq, maxlen=10)\n",
    "print(\"\\nPadded Test Sequence: \")\n",
    "print(padded)"
   ]
  },
  {
   "cell_type": "markdown",
   "metadata": {},
   "source": [
    "# training a model to recognize sentiment in text"
   ]
  },
  {
   "cell_type": "code",
   "execution_count": 18,
   "metadata": {},
   "outputs": [
    {
     "name": "stdout",
     "output_type": "stream",
     "text": [
      "--2020-10-01 21:51:48--  https://storage.googleapis.com/laurencemoroney-blog.appspot.com/sarcasm.json\n",
      "Resolving storage.googleapis.com (storage.googleapis.com)... 172.217.160.240, 172.217.161.16, 172.217.166.240, ...\n",
      "Connecting to storage.googleapis.com (storage.googleapis.com)|172.217.160.240|:443... connected.\n",
      "HTTP request sent, awaiting response... 200 OK\n",
      "Length: 5643545 (5.4M) [application/json]\n",
      "Saving to: ‘/tmp/sarcasm.json’\n",
      "\n",
      "/tmp/sarcasm.json   100%[===================>]   5.38M  2.96MB/s    in 1.8s    \n",
      "\n",
      "2020-10-01 21:51:51 (2.96 MB/s) - ‘/tmp/sarcasm.json’ saved [5643545/5643545]\n",
      "\n",
      "29657\n",
      "[  308 15115   679  3337  2298    48   382  2576 15116     6  2577  8434\n",
      "     0     0     0     0     0     0     0     0     0     0     0     0\n",
      "     0     0     0     0     0     0     0     0     0     0     0     0\n",
      "     0     0     0     0]\n",
      "(26709, 40)\n"
     ]
    }
   ],
   "source": [
    "\n",
    "!wget --no-check-certificate \\\n",
    "    https://storage.googleapis.com/laurencemoroney-blog.appspot.com/sarcasm.json \\\n",
    "    -O /tmp/sarcasm.json\n",
    "  \n",
    "import json\n",
    "\n",
    "with open(\"/tmp/sarcasm.json\", 'r') as f:\n",
    "    datastore = json.load(f)\n",
    "\n",
    "\n",
    "sentences = [] \n",
    "labels = []\n",
    "urls = []\n",
    "for item in datastore:\n",
    "    sentences.append(item['headline'])\n",
    "    labels.append(item['is_sarcastic'])\n",
    "    urls.append(item['article_link'])\n",
    "\n",
    "\n",
    "\n",
    "from tensorflow.keras.preprocessing.text import Tokenizer\n",
    "from tensorflow.keras.preprocessing.sequence import pad_sequences\n",
    "tokenizer = Tokenizer(oov_token=\"<OOV>\")\n",
    "tokenizer.fit_on_texts(sentences)\n",
    "\n",
    "word_index = tokenizer.word_index\n",
    "print(len(word_index))\n",
    "#print(word_index)\n",
    "sequences = tokenizer.texts_to_sequences(sentences)\n",
    "padded = pad_sequences(sequences, padding='post')\n",
    "print(padded[0])\n",
    "print(padded.shape)"
   ]
  },
  {
   "cell_type": "code",
   "execution_count": 25,
   "metadata": {},
   "outputs": [],
   "source": [
    "vocab_size = 10000\n",
    "embedding_dim = 16\n",
    "max_length = 100\n",
    "trunc_type='post'\n",
    "padding_type='post'\n",
    "oov_tok = \"<OOV>\"\n",
    "training_size = 20000\n",
    "\n",
    "training_sentences=sentences[0:training_size]\n",
    "testing_sentences=sentences[training_size:]\n",
    "training_labels=labels[0:training_size]\n",
    "testing_labels=labels[training_size:]\n",
    "vocab_size=30000\n",
    "tokenizer=Tokenizer(num_words=vocab_size,oov_token=\"<OOV>\")\n",
    "tokenizer.fit_on_texts(training_sentences)\n",
    "word_index=tokenizer.word_index\n",
    "\n",
    "training_sequences=tokenizer.texts_to_sequences(training_sentences)\n",
    "training_padded = pad_sequences (training_sequences, padding='post')\n",
    "\n",
    "\n",
    "testing_sequences=tokenizer.texts_to_sequences(testing_sentences)\n",
    "testing_padded = pad_sequences(testing_sequences, padding='post')\n"
   ]
  },
  {
   "cell_type": "code",
   "execution_count": 27,
   "metadata": {},
   "outputs": [
    {
     "name": "stdout",
     "output_type": "stream",
     "text": [
      "Model: \"sequential_1\"\n",
      "_________________________________________________________________\n",
      "Layer (type)                 Output Shape              Param #   \n",
      "=================================================================\n",
      "embedding_1 (Embedding)      (None, 100, 16)           480000    \n",
      "_________________________________________________________________\n",
      "global_average_pooling1d_1 ( (None, 16)                0         \n",
      "_________________________________________________________________\n",
      "dense_2 (Dense)              (None, 24)                408       \n",
      "_________________________________________________________________\n",
      "dense_3 (Dense)              (None, 1)                 25        \n",
      "=================================================================\n",
      "Total params: 480,433\n",
      "Trainable params: 480,433\n",
      "Non-trainable params: 0\n",
      "_________________________________________________________________\n"
     ]
    }
   ],
   "source": [
    "import numpy as np\n",
    "training_padded = np.array(training_padded)\n",
    "training_labels = np.array(training_labels)\n",
    "testing_padded = np.array(testing_padded)\n",
    "testing_labels = np.array(testing_labels)\n",
    "\n",
    "model = tf.keras.Sequential([\n",
    "tf.keras.layers.Embedding(vocab_size, embedding_dim, input_length=max_length),\n",
    "tf.keras.layers.GlobalAveragePooling1D(),\n",
    "tf.keras.layers.Dense (24, activation='relu'),\n",
    "tf.keras.layers.Dense (1, activation='sigmoid')\n",
    "\n",
    "])\n",
    "\n",
    "model.compile(loss='binary_crossentropy', optimizer='adam', metrics=['accuracy'])\n",
    "model.summary()"
   ]
  },
  {
   "cell_type": "code",
   "execution_count": 28,
   "metadata": {},
   "outputs": [
    {
     "name": "stdout",
     "output_type": "stream",
     "text": [
      "Epoch 1/30\n",
      "WARNING:tensorflow:Model was constructed with shape (None, 100) for input Tensor(\"embedding_1_input:0\", shape=(None, 100), dtype=float32), but it was called on an input with incompatible shape (32, 40).\n",
      "WARNING:tensorflow:Model was constructed with shape (None, 100) for input Tensor(\"embedding_1_input:0\", shape=(None, 100), dtype=float32), but it was called on an input with incompatible shape (32, 40).\n",
      "WARNING:tensorflow:Model was constructed with shape (None, 100) for input Tensor(\"embedding_1_input:0\", shape=(None, 100), dtype=float32), but it was called on an input with incompatible shape (None, 38).\n",
      "625/625 - 4s - loss: 0.5875 - accuracy: 0.6761 - val_loss: 0.4144 - val_accuracy: 0.8243\n",
      "Epoch 2/30\n",
      "625/625 - 4s - loss: 0.3166 - accuracy: 0.8762 - val_loss: 0.3414 - val_accuracy: 0.8580\n",
      "Epoch 3/30\n",
      "625/625 - 3s - loss: 0.2155 - accuracy: 0.9198 - val_loss: 0.3385 - val_accuracy: 0.8606\n",
      "Epoch 4/30\n",
      "625/625 - 4s - loss: 0.1522 - accuracy: 0.9467 - val_loss: 0.3544 - val_accuracy: 0.8593\n",
      "Epoch 5/30\n",
      "625/625 - 3s - loss: 0.1080 - accuracy: 0.9651 - val_loss: 0.3883 - val_accuracy: 0.8574\n",
      "Epoch 6/30\n",
      "625/625 - 3s - loss: 0.0765 - accuracy: 0.9776 - val_loss: 0.4301 - val_accuracy: 0.8514\n",
      "Epoch 7/30\n",
      "625/625 - 4s - loss: 0.0543 - accuracy: 0.9841 - val_loss: 0.4884 - val_accuracy: 0.8408\n",
      "Epoch 8/30\n",
      "625/625 - 3s - loss: 0.0379 - accuracy: 0.9913 - val_loss: 0.5294 - val_accuracy: 0.8429\n",
      "Epoch 9/30\n",
      "625/625 - 3s - loss: 0.0260 - accuracy: 0.9944 - val_loss: 0.5880 - val_accuracy: 0.8383\n",
      "Epoch 10/30\n",
      "625/625 - 3s - loss: 0.0177 - accuracy: 0.9969 - val_loss: 0.6516 - val_accuracy: 0.8335\n",
      "Epoch 11/30\n",
      "625/625 - 4s - loss: 0.0129 - accuracy: 0.9976 - val_loss: 0.7105 - val_accuracy: 0.8328\n",
      "Epoch 12/30\n",
      "625/625 - 3s - loss: 0.0084 - accuracy: 0.9987 - val_loss: 0.8078 - val_accuracy: 0.8322\n",
      "Epoch 13/30\n",
      "625/625 - 3s - loss: 0.0054 - accuracy: 0.9991 - val_loss: 0.8734 - val_accuracy: 0.8307\n",
      "Epoch 14/30\n",
      "625/625 - 3s - loss: 0.0035 - accuracy: 0.9998 - val_loss: 0.9062 - val_accuracy: 0.8292\n",
      "Epoch 15/30\n",
      "625/625 - 3s - loss: 0.0023 - accuracy: 0.9998 - val_loss: 0.9708 - val_accuracy: 0.8265\n",
      "Epoch 16/30\n",
      "625/625 - 3s - loss: 0.0017 - accuracy: 0.9999 - val_loss: 1.0494 - val_accuracy: 0.8243\n",
      "Epoch 17/30\n",
      "625/625 - 3s - loss: 9.8343e-04 - accuracy: 0.9999 - val_loss: 1.1010 - val_accuracy: 0.8213\n",
      "Epoch 18/30\n",
      "625/625 - 3s - loss: 7.2081e-04 - accuracy: 0.9999 - val_loss: 1.1635 - val_accuracy: 0.8225\n",
      "Epoch 19/30\n",
      "625/625 - 3s - loss: 4.1491e-04 - accuracy: 1.0000 - val_loss: 1.2153 - val_accuracy: 0.8229\n",
      "Epoch 20/30\n",
      "625/625 - 3s - loss: 2.8663e-04 - accuracy: 1.0000 - val_loss: 1.2988 - val_accuracy: 0.8222\n",
      "Epoch 21/30\n",
      "625/625 - 3s - loss: 1.8214e-04 - accuracy: 1.0000 - val_loss: 1.3638 - val_accuracy: 0.8223\n",
      "Epoch 22/30\n",
      "625/625 - 3s - loss: 1.4378e-04 - accuracy: 1.0000 - val_loss: 1.3965 - val_accuracy: 0.8192\n",
      "Epoch 23/30\n",
      "625/625 - 3s - loss: 9.3509e-05 - accuracy: 1.0000 - val_loss: 1.4469 - val_accuracy: 0.8201\n",
      "Epoch 24/30\n",
      "625/625 - 3s - loss: 7.1239e-05 - accuracy: 1.0000 - val_loss: 1.4995 - val_accuracy: 0.8201\n",
      "Epoch 25/30\n",
      "625/625 - 3s - loss: 4.3296e-05 - accuracy: 1.0000 - val_loss: 1.5619 - val_accuracy: 0.8185\n",
      "Epoch 26/30\n",
      "625/625 - 3s - loss: 3.1364e-05 - accuracy: 1.0000 - val_loss: 1.6248 - val_accuracy: 0.8180\n",
      "Epoch 27/30\n",
      "625/625 - 4s - loss: 2.2166e-05 - accuracy: 1.0000 - val_loss: 1.6761 - val_accuracy: 0.8174\n",
      "Epoch 28/30\n",
      "625/625 - 4s - loss: 5.0608e-05 - accuracy: 1.0000 - val_loss: 1.7365 - val_accuracy: 0.8188\n",
      "Epoch 29/30\n",
      "625/625 - 4s - loss: 2.1504e-05 - accuracy: 1.0000 - val_loss: 1.7926 - val_accuracy: 0.8186\n",
      "Epoch 30/30\n",
      "625/625 - 3s - loss: 9.3992e-06 - accuracy: 1.0000 - val_loss: 1.8076 - val_accuracy: 0.8173\n"
     ]
    },
    {
     "data": {
      "image/png": "[encoded data removed]",
      "text/plain": [
       "<Figure size 432x288 with 1 Axes>"
      ]
     },
     "metadata": {
      "needs_background": "light"
     },
     "output_type": "display_data"
    },
    {
     "data": {
      "image/png": "[encoded data removed]",
      "text/plain": [
       "<Figure size 432x288 with 1 Axes>"
      ]
     },
     "metadata": {
      "needs_background": "light"
     },
     "output_type": "display_data"
    }
   ],
   "source": [
    "num_epochs = 30\n",
    "history = model.fit(training_padded, training_labels, epochs=num_epochs, validation_data=(testing_padded, testing_labels), verbose=2)\n",
    "import matplotlib.pyplot as plt\n",
    "\n",
    "\n",
    "def plot_graphs(history, string):\n",
    "  plt.plot(history.history[string])\n",
    "  plt.plot(history.history['val_'+string])\n",
    "  plt.xlabel(\"Epochs\")\n",
    "  plt.ylabel(string)\n",
    "  plt.legend([string, 'val_'+string])\n",
    "  plt.show()\n",
    "  \n",
    "plot_graphs(history, \"accuracy\")\n",
    "plot_graphs(history, \"loss\")"
   ]
  },
  {
   "cell_type": "code",
   "execution_count": 29,
   "metadata": {},
   "outputs": [
    {
     "name": "stdout",
     "output_type": "stream",
     "text": [
      "former versace store clerk sues over secret 'black code' for minority shoppers ? ? ? ? ? ? ? ? ? ? ? ? ? ? ? ? ? ? ? ? ? ? ? ? ? ? ? ?\n",
      "mom starting to fear son's web series closest thing she will have to grandchild\n",
      "1\n"
     ]
    }
   ],
   "source": [
    "reverse_word_index = dict([(value, key) for (key, value) in word_index.items()])\n",
    "\n",
    "def decode_sentence(text):\n",
    "    return ' '.join([reverse_word_index.get(i, '?') for i in text])\n",
    "\n",
    "print(decode_sentence(training_padded[0]))\n",
    "print(training_sentences[2])\n",
    "print(labels[2])"
   ]
  },
  {
   "cell_type": "code",
   "execution_count": 30,
   "metadata": {},
   "outputs": [
    {
     "name": "stdout",
     "output_type": "stream",
     "text": [
      "(30000, 16)\n"
     ]
    }
   ],
   "source": [
    "e = model.layers[0]\n",
    "weights = e.get_weights()[0]\n",
    "print(weights.shape) # shape: (vocab_size, embedding_dim)\n"
   ]
  },
  {
   "cell_type": "code",
   "execution_count": 33,
   "metadata": {},
   "outputs": [
    {
     "name": "stdout",
     "output_type": "stream",
     "text": [
      "[[0.82856625]\n",
      " [0.01046699]]\n"
     ]
    }
   ],
   "source": [
    "sentence = [\"Gau is so scared of mother that he might just go hide\", \"game of thrones season finale showing this sunday night\"]\n",
    "sequences = tokenizer.texts_to_sequences(sentence)\n",
    "padded = pad_sequences(sequences, maxlen=max_length, padding=padding_type, truncating=trunc_type)\n",
    "print(model.predict(padded))"
   ]
  },
  {
   "cell_type": "code",
   "execution_count": null,
   "metadata": {},
   "outputs": [],
   "source": []
  }
 ],
 "metadata": {
  "kernelspec": {
   "display_name": "Python 3",
   "language": "python",
   "name": "python3"
  },
  "language_info": {
   "codemirror_mode": {
    "name": "ipython",
    "version": 3
   },
   "file_extension": ".py",
   "mimetype": "text/x-python",
   "name": "python",
   "nbconvert_exporter": "python",
   "pygments_lexer": "ipython3",
   "version": "3.7.6"
  }
 },
 "nbformat": 4,
 "nbformat_minor": 4
}
